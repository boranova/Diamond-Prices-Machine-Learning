{
 "cells": [
  {
   "cell_type": "code",
   "execution_count": 10,
   "metadata": {},
   "outputs": [],
   "source": [
    "#import libraries\n",
    "import pandas as pd\n",
    "import numpy as np\n",
    "import hvplot.pandas\n",
    "from pathlib import Path\n",
    "from sklearn.preprocessing import StandardScaler\n",
    "from sklearn.model_selection import train_test_split\n",
    "from sklearn.svm import SVR\n",
    "from sklearn.metrics import max_error, median_absolute_error, mean_squared_error, r2_score, explained_variance_score\n",
    "from sklearn.model_selection import GridSearchCV\n",
    "pd.options.display.float_format"
   ]
  },
  {
   "cell_type": "code",
   "execution_count": 11,
   "metadata": {},
   "outputs": [],
   "source": [
    "file = Path(\"Resources/clean_data_v.csv\")\n",
    "df = pd.read_csv(file, index_col='Unnamed: 0')\n",
    "\n",
    "y = df['price'].values\n",
    "X = df.drop(columns = 'price')\n",
    "\n",
    "scaler = StandardScaler()\n",
    "X_scaled = scaler.fit_transform(X)\n",
    "\n",
    "X_train , X_test, y_train, y_test = train_test_split(X_scaled, y, test_size=0.33, random_state=7)"
   ]
  },
  {
   "cell_type": "code",
   "execution_count": 12,
   "metadata": {},
   "outputs": [],
   "source": [
    "#set up a results data frame\n",
    "\n",
    "results = pd.DataFrame(index = ['max_error', 'median_absolute_error', 'mean_squared_error', 'r2_score', 'explained_variance_score'], \n",
    "                       columns = ['SVR_rbf', 'SVR_lin', 'SVR_poly' ])\n",
    "\n"
   ]
  },
  {
   "cell_type": "code",
   "execution_count": 13,
   "metadata": {},
   "outputs": [],
   "source": [
    "svr_rbf = SVR(kernel='rbf' ) \n",
    "svr_lin = SVR(kernel='linear', gamma='auto')\n",
    "svr_poly = SVR(kernel='poly',  gamma='auto', degree=3, epsilon=.1, coef0=1)\n",
    "\n",
    "svr_rbf.fit(X_train, y_train)\n",
    "\n",
    "y_pred = svr_rbf.predict(X_test)\n",
    "\n",
    "results.loc['max_error','SVR_rbf'] = max_error(y_test, y_pred)\n",
    "results.loc['median_absolute_error','SVR_rbf'] = median_absolute_error(y_test, y_pred)\n",
    "results.loc['mean_squared_error','SVR_rbf'] = mean_squared_error(y_test, y_pred)\n",
    "results.loc['r2_score','SVR_rbf'] = r2_score(y_test, y_pred)\n",
    "results.loc['explained_variance_score','SVR_rbf'] = explained_variance_score(y_test, y_pred)\n",
    "\n",
    "\n",
    "\n",
    "\n",
    "svr_lin.fit(X_train, y_train)\n",
    "\n",
    "y_pred_lin = svr_lin.predict(X_test)\n",
    "\n",
    "results.loc['max_error','SVR_lin'] = max_error(y_test, y_pred_lin)\n",
    "results.loc['median_absolute_error','SVR_lin'] = median_absolute_error(y_test, y_pred_lin)\n",
    "results.loc['mean_squared_error','SVR_lin'] = mean_squared_error(y_test, y_pred_lin)\n",
    "results.loc['r2_score','SVR_lin'] = r2_score(y_test, y_pred_lin)\n",
    "results.loc['explained_variance_score','SVR_lin'] = explained_variance_score(y_test, y_pred_lin)\n",
    "\n",
    "\n",
    "\n",
    "svr_poly.fit(X_train, y_train)\n",
    "\n",
    "y_pred_poly = svr_poly.predict(X_test)\n",
    "\n",
    "results.loc['max_error','SVR_poly'] = max_error(y_test, y_pred_poly)\n",
    "results.loc['median_absolute_error','SVR_poly'] = median_absolute_error(y_test, y_pred_poly)\n",
    "results.loc['mean_squared_error','SVR_poly'] = mean_squared_error(y_test, y_pred_poly)\n",
    "results.loc['r2_score','SVR_poly'] = r2_score(y_test, y_pred_poly)\n",
    "results.loc['explained_variance_score','SVR_poly'] = explained_variance_score(y_test, y_pred_poly)"
   ]
  },
  {
   "cell_type": "code",
   "execution_count": 14,
   "metadata": {},
   "outputs": [
    {
     "data": {
      "text/html": [
       "<div>\n",
       "<style scoped>\n",
       "    .dataframe tbody tr th:only-of-type {\n",
       "        vertical-align: middle;\n",
       "    }\n",
       "\n",
       "    .dataframe tbody tr th {\n",
       "        vertical-align: top;\n",
       "    }\n",
       "\n",
       "    .dataframe thead th {\n",
       "        text-align: right;\n",
       "    }\n",
       "</style>\n",
       "<table border=\"1\" class=\"dataframe\">\n",
       "  <thead>\n",
       "    <tr style=\"text-align: right;\">\n",
       "      <th></th>\n",
       "      <th>SVR_rbf</th>\n",
       "      <th>SVR_lin</th>\n",
       "      <th>SVR_poly</th>\n",
       "    </tr>\n",
       "  </thead>\n",
       "  <tbody>\n",
       "    <tr>\n",
       "      <th>max_error</th>\n",
       "      <td>15762.9</td>\n",
       "      <td>11508.9</td>\n",
       "      <td>19283.7</td>\n",
       "    </tr>\n",
       "    <tr>\n",
       "      <th>median_absolute_error</th>\n",
       "      <td>669.892</td>\n",
       "      <td>397.003</td>\n",
       "      <td>215.908</td>\n",
       "    </tr>\n",
       "    <tr>\n",
       "      <th>mean_squared_error</th>\n",
       "      <td>1.10292e+07</td>\n",
       "      <td>1.98831e+06</td>\n",
       "      <td>1.71511e+06</td>\n",
       "    </tr>\n",
       "    <tr>\n",
       "      <th>r2_score</th>\n",
       "      <td>0.301902</td>\n",
       "      <td>0.87415</td>\n",
       "      <td>0.891442</td>\n",
       "    </tr>\n",
       "    <tr>\n",
       "      <th>explained_variance_score</th>\n",
       "      <td>0.409356</td>\n",
       "      <td>0.881403</td>\n",
       "      <td>0.898785</td>\n",
       "    </tr>\n",
       "  </tbody>\n",
       "</table>\n",
       "</div>"
      ],
      "text/plain": [
       "                              SVR_rbf      SVR_lin     SVR_poly\n",
       "max_error                     15762.9      11508.9      19283.7\n",
       "median_absolute_error         669.892      397.003      215.908\n",
       "mean_squared_error        1.10292e+07  1.98831e+06  1.71511e+06\n",
       "r2_score                     0.301902      0.87415     0.891442\n",
       "explained_variance_score     0.409356     0.881403     0.898785"
      ]
     },
     "execution_count": 14,
     "metadata": {},
     "output_type": "execute_result"
    }
   ],
   "source": [
    "results"
   ]
  },
  {
   "cell_type": "code",
   "execution_count": null,
   "metadata": {},
   "outputs": [
    {
     "name": "stdout",
     "output_type": "stream",
     "text": [
      "Tuning hyper-parameters\n"
     ]
    }
   ],
   "source": [
    "from sklearn.metrics import make_scorer\n",
    "scorer = make_scorer(mean_squared_error, greater_is_better=False)\n",
    "\n",
    "\n",
    "parameters = [{'kernel': ['rbf'], 'gamma': [ 0.01, 0.1, 0.2, 0.5, 0.6],'C': [10, 100, 1000]}]\n",
    "print(\"Tuning hyper-parameters\")\n",
    "svr_gs = GridSearchCV(SVR(epsilon = 0.01), parameters, cv = 3, scoring=scorer)\n",
    "svr_gs.fit(X_train, y_train)\n",
    "\n",
    "# Checking the score for all parameters\n",
    "print(\"Grid scores on training set:\")\n",
    "means = svr_gs.cv_results_['mean_test_score']\n",
    "stds = svr_gs.cv_results_['std_test_score']\n",
    "for mean, std, params in zip(means, stds, svr_gs.cv_results_['params']):\n",
    "    print(\"%0.3f (+/-%0.03f) for %r\"% (mean, std * 2, params))"
   ]
  },
  {
   "cell_type": "code",
   "execution_count": null,
   "metadata": {},
   "outputs": [],
   "source": []
  },
  {
   "cell_type": "code",
   "execution_count": null,
   "metadata": {},
   "outputs": [],
   "source": []
  }
 ],
 "metadata": {
  "kernelspec": {
   "display_name": "Python 3",
   "language": "python",
   "name": "python3"
  },
  "language_info": {
   "codemirror_mode": {
    "name": "ipython",
    "version": 3
   },
   "file_extension": ".py",
   "mimetype": "text/x-python",
   "name": "python",
   "nbconvert_exporter": "python",
   "pygments_lexer": "ipython3",
   "version": "3.7.7"
  }
 },
 "nbformat": 4,
 "nbformat_minor": 4
}

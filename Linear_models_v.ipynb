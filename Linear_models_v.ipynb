{
 "cells": [
  {
   "cell_type": "code",
   "execution_count": 1,
   "metadata": {},
   "outputs": [],
   "source": [
    "#import libraries\n",
    "import pandas as pd\n",
    "from pathlib import Path\n",
    "from sklearn.preprocessing import StandardScaler\n",
    "from sklearn.model_selection import train_test_split\n",
    "from sklearn.linear_model import LinearRegression, LogisticRegression, Lasso, Ridge, LassoLars, BayesianRidge, ElasticNet\n",
    "from sklearn.metrics import max_error, median_absolute_error, mean_squared_error, r2_score, explained_variance_score\n"
   ]
  },
  {
   "cell_type": "markdown",
   "metadata": {},
   "source": [
    "# Read in cleaned data into a Pandas DataFrame"
   ]
  },
  {
   "cell_type": "code",
   "execution_count": 2,
   "metadata": {},
   "outputs": [
    {
     "data": {
      "text/html": [
       "<div>\n",
       "<style scoped>\n",
       "    .dataframe tbody tr th:only-of-type {\n",
       "        vertical-align: middle;\n",
       "    }\n",
       "\n",
       "    .dataframe tbody tr th {\n",
       "        vertical-align: top;\n",
       "    }\n",
       "\n",
       "    .dataframe thead th {\n",
       "        text-align: right;\n",
       "    }\n",
       "</style>\n",
       "<table border=\"1\" class=\"dataframe\">\n",
       "  <thead>\n",
       "    <tr style=\"text-align: right;\">\n",
       "      <th></th>\n",
       "      <th>carat</th>\n",
       "      <th>depth</th>\n",
       "      <th>table</th>\n",
       "      <th>price</th>\n",
       "      <th>x</th>\n",
       "      <th>y</th>\n",
       "      <th>z</th>\n",
       "      <th>color_D</th>\n",
       "      <th>color_E</th>\n",
       "      <th>color_F</th>\n",
       "      <th>...</th>\n",
       "      <th>cut_Premium</th>\n",
       "      <th>cut_Very Good</th>\n",
       "      <th>clarity_I1</th>\n",
       "      <th>clarity_IF</th>\n",
       "      <th>clarity_SI1</th>\n",
       "      <th>clarity_SI2</th>\n",
       "      <th>clarity_VS1</th>\n",
       "      <th>clarity_VS2</th>\n",
       "      <th>clarity_VVS1</th>\n",
       "      <th>clarity_VVS2</th>\n",
       "    </tr>\n",
       "  </thead>\n",
       "  <tbody>\n",
       "    <tr>\n",
       "      <th>1</th>\n",
       "      <td>0.23</td>\n",
       "      <td>61.5</td>\n",
       "      <td>55.0</td>\n",
       "      <td>326</td>\n",
       "      <td>3.95</td>\n",
       "      <td>3.98</td>\n",
       "      <td>2.43</td>\n",
       "      <td>0</td>\n",
       "      <td>1</td>\n",
       "      <td>0</td>\n",
       "      <td>...</td>\n",
       "      <td>0</td>\n",
       "      <td>0</td>\n",
       "      <td>0</td>\n",
       "      <td>0</td>\n",
       "      <td>0</td>\n",
       "      <td>1</td>\n",
       "      <td>0</td>\n",
       "      <td>0</td>\n",
       "      <td>0</td>\n",
       "      <td>0</td>\n",
       "    </tr>\n",
       "    <tr>\n",
       "      <th>2</th>\n",
       "      <td>0.21</td>\n",
       "      <td>59.8</td>\n",
       "      <td>61.0</td>\n",
       "      <td>326</td>\n",
       "      <td>3.89</td>\n",
       "      <td>3.84</td>\n",
       "      <td>2.31</td>\n",
       "      <td>0</td>\n",
       "      <td>1</td>\n",
       "      <td>0</td>\n",
       "      <td>...</td>\n",
       "      <td>1</td>\n",
       "      <td>0</td>\n",
       "      <td>0</td>\n",
       "      <td>0</td>\n",
       "      <td>1</td>\n",
       "      <td>0</td>\n",
       "      <td>0</td>\n",
       "      <td>0</td>\n",
       "      <td>0</td>\n",
       "      <td>0</td>\n",
       "    </tr>\n",
       "    <tr>\n",
       "      <th>3</th>\n",
       "      <td>0.23</td>\n",
       "      <td>56.9</td>\n",
       "      <td>65.0</td>\n",
       "      <td>327</td>\n",
       "      <td>4.05</td>\n",
       "      <td>4.07</td>\n",
       "      <td>2.31</td>\n",
       "      <td>0</td>\n",
       "      <td>1</td>\n",
       "      <td>0</td>\n",
       "      <td>...</td>\n",
       "      <td>0</td>\n",
       "      <td>0</td>\n",
       "      <td>0</td>\n",
       "      <td>0</td>\n",
       "      <td>0</td>\n",
       "      <td>0</td>\n",
       "      <td>1</td>\n",
       "      <td>0</td>\n",
       "      <td>0</td>\n",
       "      <td>0</td>\n",
       "    </tr>\n",
       "    <tr>\n",
       "      <th>4</th>\n",
       "      <td>0.29</td>\n",
       "      <td>62.4</td>\n",
       "      <td>58.0</td>\n",
       "      <td>334</td>\n",
       "      <td>4.20</td>\n",
       "      <td>4.23</td>\n",
       "      <td>2.63</td>\n",
       "      <td>0</td>\n",
       "      <td>0</td>\n",
       "      <td>0</td>\n",
       "      <td>...</td>\n",
       "      <td>1</td>\n",
       "      <td>0</td>\n",
       "      <td>0</td>\n",
       "      <td>0</td>\n",
       "      <td>0</td>\n",
       "      <td>0</td>\n",
       "      <td>0</td>\n",
       "      <td>1</td>\n",
       "      <td>0</td>\n",
       "      <td>0</td>\n",
       "    </tr>\n",
       "    <tr>\n",
       "      <th>5</th>\n",
       "      <td>0.31</td>\n",
       "      <td>63.3</td>\n",
       "      <td>58.0</td>\n",
       "      <td>335</td>\n",
       "      <td>4.34</td>\n",
       "      <td>4.35</td>\n",
       "      <td>2.75</td>\n",
       "      <td>0</td>\n",
       "      <td>0</td>\n",
       "      <td>0</td>\n",
       "      <td>...</td>\n",
       "      <td>0</td>\n",
       "      <td>0</td>\n",
       "      <td>0</td>\n",
       "      <td>0</td>\n",
       "      <td>0</td>\n",
       "      <td>1</td>\n",
       "      <td>0</td>\n",
       "      <td>0</td>\n",
       "      <td>0</td>\n",
       "      <td>0</td>\n",
       "    </tr>\n",
       "  </tbody>\n",
       "</table>\n",
       "<p>5 rows × 27 columns</p>\n",
       "</div>"
      ],
      "text/plain": [
       "   carat  depth  table  price     x     y     z  color_D  color_E  color_F  \\\n",
       "1   0.23   61.5   55.0    326  3.95  3.98  2.43        0        1        0   \n",
       "2   0.21   59.8   61.0    326  3.89  3.84  2.31        0        1        0   \n",
       "3   0.23   56.9   65.0    327  4.05  4.07  2.31        0        1        0   \n",
       "4   0.29   62.4   58.0    334  4.20  4.23  2.63        0        0        0   \n",
       "5   0.31   63.3   58.0    335  4.34  4.35  2.75        0        0        0   \n",
       "\n",
       "   ...  cut_Premium  cut_Very Good  clarity_I1  clarity_IF  clarity_SI1  \\\n",
       "1  ...            0              0           0           0            0   \n",
       "2  ...            1              0           0           0            1   \n",
       "3  ...            0              0           0           0            0   \n",
       "4  ...            1              0           0           0            0   \n",
       "5  ...            0              0           0           0            0   \n",
       "\n",
       "   clarity_SI2  clarity_VS1  clarity_VS2  clarity_VVS1  clarity_VVS2  \n",
       "1            1            0            0             0             0  \n",
       "2            0            0            0             0             0  \n",
       "3            0            1            0             0             0  \n",
       "4            0            0            1             0             0  \n",
       "5            1            0            0             0             0  \n",
       "\n",
       "[5 rows x 27 columns]"
      ]
     },
     "execution_count": 2,
     "metadata": {},
     "output_type": "execute_result"
    }
   ],
   "source": [
    "file = Path(\"Resources/clean_data_v.csv\")\n",
    "df = pd.read_csv(file, index_col='Unnamed: 0')\n",
    "df.head()"
   ]
  },
  {
   "cell_type": "code",
   "execution_count": 3,
   "metadata": {},
   "outputs": [],
   "source": [
    "y = df['price']\n",
    "X = df.drop(columns = 'price')"
   ]
  },
  {
   "cell_type": "markdown",
   "metadata": {},
   "source": [
    "# Scale the data"
   ]
  },
  {
   "cell_type": "code",
   "execution_count": 4,
   "metadata": {},
   "outputs": [],
   "source": [
    "scaler = StandardScaler()\n",
    "\n",
    "X_scaled = scaler.fit_transform(X)"
   ]
  },
  {
   "cell_type": "markdown",
   "metadata": {},
   "source": [
    "# Split the data into Train and Test Data sets\n"
   ]
  },
  {
   "cell_type": "code",
   "execution_count": 5,
   "metadata": {},
   "outputs": [],
   "source": [
    "X_train , X_test, y_train, y_test = train_test_split(X_scaled, y, test_size=0.33, random_state=7)"
   ]
  },
  {
   "cell_type": "code",
   "execution_count": 6,
   "metadata": {},
   "outputs": [],
   "source": [
    "#set up a results data frame\n",
    "\n",
    "results = pd.DataFrame(index = ['max_error', 'median_absolute_error', 'mean_squared_error', 'r2_score', 'explained_variance_score'], \n",
    "                       columns = ['LinearRegression', 'LogisticRegression', 'Lasso', 'Ridge', 'LassoLars', 'BayesianRidge', 'ElasticNet' ])\n",
    "\n"
   ]
  },
  {
   "cell_type": "markdown",
   "metadata": {},
   "source": [
    "# Linear Regression model\n"
   ]
  },
  {
   "cell_type": "code",
   "execution_count": 7,
   "metadata": {},
   "outputs": [],
   "source": [
    "linear_reg = LinearRegression()\n",
    "\n",
    "linear_reg.fit(X_train, y_train)\n",
    "\n",
    "y_pred = linear_reg.predict(X_test)\n",
    "\n",
    "results.loc['max_error','LinearRegression'] = max_error(y_test, y_pred)\n",
    "results.loc['median_absolute_error','LinearRegression'] = median_absolute_error(y_test, y_pred)\n",
    "results.loc['mean_squared_error','LinearRegression'] = mean_squared_error(y_test, y_pred)\n",
    "results.loc['r2_score','LinearRegression'] = r2_score(y_test, y_pred)\n",
    "results.loc['explained_variance_score','LinearRegression'] = explained_variance_score(y_test, y_pred)\n"
   ]
  },
  {
   "cell_type": "markdown",
   "metadata": {},
   "source": [
    "# Logistic Regression model"
   ]
  },
  {
   "cell_type": "code",
   "execution_count": 8,
   "metadata": {},
   "outputs": [],
   "source": [
    "# log_reg = LogisticRegression()\n",
    "\n",
    "# log_reg.fit(X_train, y_train)\n",
    "\n",
    "# y_pred_lg = log_reg.predict(X_test)\n",
    "\n",
    "# results.loc['max_error','LogisticRegression'] = max_error(y_test, y_pred_lg)\n",
    "# results.loc['median_absolute_error','LogisticRegression'] = median_absolute_error(y_test, y_pred_lg)\n",
    "# results.loc['mean_squared_error','LogisticRegression'] = mean_squared_error(y_test, y_pred_lg)\n",
    "# results.loc['r2_score','LogisticRegression'] = r2_score(y_test, y_pred_lg)\n",
    "# results.loc['explained_variance_score','LogisticRegression'] = explained_variance_score(y_test, y_pred_lg)"
   ]
  },
  {
   "cell_type": "markdown",
   "metadata": {},
   "source": [
    "# Lasso Regression model"
   ]
  },
  {
   "cell_type": "code",
   "execution_count": 9,
   "metadata": {},
   "outputs": [],
   "source": [
    "lasso_reg = Lasso()\n",
    "\n",
    "lasso_reg.fit(X_train, y_train)\n",
    "\n",
    "y_pred_lasso = lasso_reg.predict(X_test)\n",
    "\n",
    "results.loc['max_error','Lasso'] = max_error(y_test, y_pred_lasso)\n",
    "results.loc['median_absolute_error','Lasso'] = median_absolute_error(y_test, y_pred_lasso)\n",
    "results.loc['mean_squared_error','Lasso'] = mean_squared_error(y_test, y_pred_lasso)\n",
    "results.loc['r2_score','Lasso'] = r2_score(y_test, y_pred_lasso)\n",
    "results.loc['explained_variance_score','Lasso'] = explained_variance_score(y_test, y_pred_lasso)"
   ]
  },
  {
   "cell_type": "markdown",
   "metadata": {},
   "source": [
    "# Ridge Regression model"
   ]
  },
  {
   "cell_type": "code",
   "execution_count": 10,
   "metadata": {},
   "outputs": [],
   "source": [
    "ridge_reg = Ridge()\n",
    "\n",
    "ridge_reg.fit(X_train, y_train)\n",
    "\n",
    "y_pred_ridge = ridge_reg.predict(X_test)\n",
    "\n",
    "results.loc['max_error','Ridge'] = max_error(y_test, y_pred_ridge)\n",
    "results.loc['median_absolute_error','Ridge'] = median_absolute_error(y_test, y_pred_ridge)\n",
    "results.loc['mean_squared_error','Ridge'] = mean_squared_error(y_test, y_pred_ridge)\n",
    "results.loc['r2_score','Ridge'] = r2_score(y_test, y_pred_ridge)\n",
    "results.loc['explained_variance_score','Ridge'] = explained_variance_score(y_test, y_pred_ridge)"
   ]
  },
  {
   "cell_type": "markdown",
   "metadata": {},
   "source": [
    "# LassoLars model"
   ]
  },
  {
   "cell_type": "code",
   "execution_count": 11,
   "metadata": {},
   "outputs": [],
   "source": [
    "lars = LassoLars(alpha=.1)\n",
    "\n",
    "lars.fit(X_train, y_train)\n",
    "\n",
    "y_pred_lars = lars.predict(X_test)\n",
    "\n",
    "results.loc['max_error','LassoLars'] = max_error(y_test, y_pred_lars)\n",
    "results.loc['median_absolute_error','LassoLars'] = median_absolute_error(y_test, y_pred_lars)\n",
    "results.loc['mean_squared_error','LassoLars'] = mean_squared_error(y_test, y_pred_lars)\n",
    "results.loc['r2_score','LassoLars'] = r2_score(y_test, y_pred_lars)\n",
    "results.loc['explained_variance_score','LassoLars'] = explained_variance_score(y_test, y_pred_lars)"
   ]
  },
  {
   "cell_type": "markdown",
   "metadata": {},
   "source": [
    "# BayesianRidge model"
   ]
  },
  {
   "cell_type": "code",
   "execution_count": 12,
   "metadata": {},
   "outputs": [],
   "source": [
    "br_model = BayesianRidge()\n",
    "br_model.fit(X_train, y_train)\n",
    "\n",
    "y_pred_br = br_model.predict(X_test)\n",
    "\n",
    "results.loc['max_error','BayesianRidge'] = max_error(y_test, y_pred_br)\n",
    "results.loc['median_absolute_error','BayesianRidge'] = median_absolute_error(y_test, y_pred_br)\n",
    "results.loc['mean_squared_error','BayesianRidge'] = mean_squared_error(y_test, y_pred_br)\n",
    "results.loc['r2_score','BayesianRidge'] = r2_score(y_test, y_pred_br)\n",
    "results.loc['explained_variance_score','BayesianRidge'] = explained_variance_score(y_test, y_pred_br)"
   ]
  },
  {
   "cell_type": "markdown",
   "metadata": {},
   "source": [
    "# ElasticNet model"
   ]
  },
  {
   "cell_type": "code",
   "execution_count": 13,
   "metadata": {},
   "outputs": [],
   "source": [
    "en_model = ElasticNet()\n",
    "en_model.fit(X_train, y_train)\n",
    "\n",
    "y_pred_en = en_model.predict(X_test)\n",
    "\n",
    "results.loc['max_error','ElasticNet'] = max_error(y_test, y_pred_en)\n",
    "results.loc['median_absolute_error','ElasticNet'] = median_absolute_error(y_test, y_pred_en)\n",
    "results.loc['mean_squared_error','ElasticNet'] = mean_squared_error(y_test, y_pred_en)\n",
    "results.loc['r2_score','ElasticNet'] = r2_score(y_test, y_pred_en)\n",
    "results.loc['explained_variance_score','ElasticNet'] = explained_variance_score(y_test, y_pred_en)"
   ]
  },
  {
   "cell_type": "code",
   "execution_count": 14,
   "metadata": {},
   "outputs": [
    {
     "data": {
      "text/html": [
       "<div>\n",
       "<style scoped>\n",
       "    .dataframe tbody tr th:only-of-type {\n",
       "        vertical-align: middle;\n",
       "    }\n",
       "\n",
       "    .dataframe tbody tr th {\n",
       "        vertical-align: top;\n",
       "    }\n",
       "\n",
       "    .dataframe thead th {\n",
       "        text-align: right;\n",
       "    }\n",
       "</style>\n",
       "<table border=\"1\" class=\"dataframe\">\n",
       "  <thead>\n",
       "    <tr style=\"text-align: right;\">\n",
       "      <th></th>\n",
       "      <th>LinearRegression</th>\n",
       "      <th>LogisticRegression</th>\n",
       "      <th>Lasso</th>\n",
       "      <th>Ridge</th>\n",
       "      <th>LassoLars</th>\n",
       "      <th>BayesianRidge</th>\n",
       "      <th>ElasticNet</th>\n",
       "    </tr>\n",
       "  </thead>\n",
       "  <tbody>\n",
       "    <tr>\n",
       "      <th>max_error</th>\n",
       "      <td>15356.3</td>\n",
       "      <td>NaN</td>\n",
       "      <td>15209</td>\n",
       "      <td>15343.2</td>\n",
       "      <td>12553.3</td>\n",
       "      <td>15343.3</td>\n",
       "      <td>19275.6</td>\n",
       "    </tr>\n",
       "    <tr>\n",
       "      <th>median_absolute_error</th>\n",
       "      <td>530.084</td>\n",
       "      <td>NaN</td>\n",
       "      <td>531.192</td>\n",
       "      <td>530.45</td>\n",
       "      <td>553.816</td>\n",
       "      <td>530.452</td>\n",
       "      <td>756.033</td>\n",
       "    </tr>\n",
       "    <tr>\n",
       "      <th>mean_squared_error</th>\n",
       "      <td>1.25408e+06</td>\n",
       "      <td>NaN</td>\n",
       "      <td>1.25492e+06</td>\n",
       "      <td>1.25415e+06</td>\n",
       "      <td>1.30397e+06</td>\n",
       "      <td>1.25415e+06</td>\n",
       "      <td>2.43975e+06</td>\n",
       "    </tr>\n",
       "    <tr>\n",
       "      <th>r2_score</th>\n",
       "      <td>0.920623</td>\n",
       "      <td>NaN</td>\n",
       "      <td>0.92057</td>\n",
       "      <td>0.920618</td>\n",
       "      <td>0.917465</td>\n",
       "      <td>0.920618</td>\n",
       "      <td>0.845575</td>\n",
       "    </tr>\n",
       "    <tr>\n",
       "      <th>explained_variance_score</th>\n",
       "      <td>0.920624</td>\n",
       "      <td>NaN</td>\n",
       "      <td>0.920571</td>\n",
       "      <td>0.92062</td>\n",
       "      <td>0.917468</td>\n",
       "      <td>0.92062</td>\n",
       "      <td>0.845578</td>\n",
       "    </tr>\n",
       "  </tbody>\n",
       "</table>\n",
       "</div>"
      ],
      "text/plain": [
       "                         LinearRegression LogisticRegression        Lasso  \\\n",
       "max_error                         15356.3                NaN        15209   \n",
       "median_absolute_error             530.084                NaN      531.192   \n",
       "mean_squared_error            1.25408e+06                NaN  1.25492e+06   \n",
       "r2_score                         0.920623                NaN      0.92057   \n",
       "explained_variance_score         0.920624                NaN     0.920571   \n",
       "\n",
       "                                Ridge    LassoLars BayesianRidge   ElasticNet  \n",
       "max_error                     15343.2      12553.3       15343.3      19275.6  \n",
       "median_absolute_error          530.45      553.816       530.452      756.033  \n",
       "mean_squared_error        1.25415e+06  1.30397e+06   1.25415e+06  2.43975e+06  \n",
       "r2_score                     0.920618     0.917465      0.920618     0.845575  \n",
       "explained_variance_score      0.92062     0.917468       0.92062     0.845578  "
      ]
     },
     "execution_count": 14,
     "metadata": {},
     "output_type": "execute_result"
    }
   ],
   "source": [
    "results.head()"
   ]
  },
  {
   "cell_type": "code",
   "execution_count": 16,
   "metadata": {},
   "outputs": [],
   "source": [
    "results.to_csv('Resources/Linear_models_results.csv')"
   ]
  },
  {
   "cell_type": "code",
   "execution_count": null,
   "metadata": {},
   "outputs": [],
   "source": [
    "# # List the features sorted in descending order by feature importance\n",
    "# importances = linear_reg.feature_importances_\n",
    "\n",
    "# importances_df = pd.DataFrame(sorted(zip(  linear_reg.feature_importances_, X_train.columns), reverse=True))\n",
    "# importances_df.set_index(importances_df[1], inplace=True)\n",
    "# importances_df.drop(columns=1, inplace=True)\n",
    "# importances_df.rename(columns={0: 'Feature Importances'}, inplace=True)\n",
    "# importances_sorted = importances_df.sort_values(by='Feature Importances')\n",
    "# importances_sorted.plot(kind='barh', color='lightgreen', title= 'Features Importances', legend=False, figsize = (20,20))\n",
    "\n",
    "\n"
   ]
  },
  {
   "cell_type": "code",
   "execution_count": null,
   "metadata": {},
   "outputs": [],
   "source": []
  }
 ],
 "metadata": {
  "kernelspec": {
   "display_name": "Python 3",
   "language": "python",
   "name": "python3"
  },
  "language_info": {
   "codemirror_mode": {
    "name": "ipython",
    "version": 3
   },
   "file_extension": ".py",
   "mimetype": "text/x-python",
   "name": "python",
   "nbconvert_exporter": "python",
   "pygments_lexer": "ipython3",
   "version": "3.7.6"
  }
 },
 "nbformat": 4,
 "nbformat_minor": 4
}
